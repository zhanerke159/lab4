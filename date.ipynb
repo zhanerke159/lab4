{
 "cells": [
  {
   "cell_type": "code",
   "execution_count": null,
   "metadata": {},
   "outputs": [
    {
     "name": "stdout",
     "output_type": "stream",
     "text": [
      "2025-02-06 14:23:34.256512\n"
     ]
    }
   ],
   "source": [
    "#1 task\n",
    "from datetime import datetime, timedelta\n",
    "c=datetime.today()\n",
    "print(f\"Today: {c.date()}\")\n",
    "a=timedelta(days=5)\n",
    "f=c-a\n",
    "print(f\"Five days ago: {f.date()}\")"
   ]
  },
  {
   "cell_type": "code",
   "execution_count": null,
   "metadata": {},
   "outputs": [],
   "source": [
    "#2 task\n",
    "from datetime import datetime, timedelta\n",
    "c=datetime.today()\n",
    "print(f\"Today: {c.date()}\")\n",
    "a=timedelta(days=1)\n",
    "d=c-a\n",
    "f=c+a\n",
    "print(f\"Yesterday: {d.date()}\")\n",
    "print(f\"Tomorrow: {f.date()}\")"
   ]
  },
  {
   "cell_type": "code",
   "execution_count": null,
   "metadata": {},
   "outputs": [],
   "source": [
    "#3 task\n",
    "from datetime import datetime\n",
    "now = datetime.now()\n",
    "w = now.replace(microsecond=0)\n",
    "print(\"Datetime with microseconds:\", datetime.now())\n",
    "print(\"Datetime without microseconds:\", w)"
   ]
  },
  {
   "cell_type": "code",
   "execution_count": null,
   "metadata": {},
   "outputs": [],
   "source": [
    "#4 task\n",
    "from datetime import datetime\n",
    "t1 = input(\"Input 1st date: \")\n",
    "t2 = input(\"Input 2nd date: \")\n",
    "dateform = \"%Y-%m-%d %H:%M:%S\"\n",
    "date1 = datetime.strptime(t1, dateform)\n",
    "date2 = datetime.strptime(t2, dateform)\n",
    "diff = abs(date1 - date2)\n",
    "sec = diff.total_seconds()\n",
    "print(\"Seconds: \",sec)"
   ]
  }
 ],
 "metadata": {
  "kernelspec": {
   "display_name": "Python 3",
   "language": "python",
   "name": "python3"
  },
  "language_info": {
   "codemirror_mode": {
    "name": "ipython",
    "version": 3
   },
   "file_extension": ".py",
   "mimetype": "text/x-python",
   "name": "python",
   "nbconvert_exporter": "python",
   "pygments_lexer": "ipython3",
   "version": "3.13.0"
  }
 },
 "nbformat": 4,
 "nbformat_minor": 2
}
