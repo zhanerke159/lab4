{
 "cells": [
  {
   "cell_type": "code",
   "execution_count": null,
   "metadata": {},
   "outputs": [],
   "source": [
    "#1 task\n",
    "def gen(n):\n",
    "    for i in range(n + 1):\n",
    "        yield i**2\n",
    "n=int(input())\n",
    "g=gen(n)\n",
    "for s in g:\n",
    "    print(s)"
   ]
  },
  {
   "cell_type": "code",
   "execution_count": null,
   "metadata": {},
   "outputs": [],
   "source": [
    "#2 task \n",
    "def gen(n):\n",
    "    for i in range(n + 1):\n",
    "        if i%2==0:\n",
    "            yield i\n",
    "n=int(input())\n",
    "g=gen(n)\n",
    "for s in g:\n",
    "    print(s, end=\",\")\n"
   ]
  },
  {
   "cell_type": "code",
   "execution_count": null,
   "metadata": {},
   "outputs": [],
   "source": [
    "#3 task\n",
    "n=int(input())\n",
    "c=[]\n",
    "for i in range(n+1):\n",
    "    c.append(i)\n",
    "for i in iter(c):\n",
    "    if i%3==0 and i%4==0:\n",
    "        print(i, end=\" \")"
   ]
  },
  {
   "cell_type": "code",
   "execution_count": null,
   "metadata": {},
   "outputs": [],
   "source": [
    "#4 task\n",
    "def squares(a,b):\n",
    "    for i in range(a,b):\n",
    "        yield i**2\n",
    "a=int(input())\n",
    "b=int(input())\n",
    "f=squares(a,b)\n",
    "for s in f:\n",
    "    print(s, end=\" \")\n"
   ]
  },
  {
   "cell_type": "code",
   "execution_count": null,
   "metadata": {},
   "outputs": [],
   "source": [
    "#5 task\n",
    "def retur(n):\n",
    "    for i in range(n,-1, -1):\n",
    "        yield i\n",
    "n=int(input())\n",
    "f=retur(n)\n",
    "for s in f:\n",
    "    print(s, end=\" \")\n"
   ]
  }
 ],
 "metadata": {
  "language_info": {
   "name": "python"
  }
 },
 "nbformat": 4,
 "nbformat_minor": 2
}
