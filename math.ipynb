{
 "cells": [
  {
   "cell_type": "code",
   "execution_count": null,
   "metadata": {},
   "outputs": [],
   "source": [
    "#1 task\n",
    "from math import radians\n",
    "a=int(input(\"Input degree: \"))\n",
    "c=radians(a)\n",
    "print(f\"Output radian: {c}\")"
   ]
  },
  {
   "cell_type": "code",
   "execution_count": null,
   "metadata": {},
   "outputs": [],
   "source": [
    "#2 task\n",
    "from math import fsum\n",
    "h=int(input(\"Heigth: \"))\n",
    "a=int(input(\"Base, first value: \"))\n",
    "b=int(input(\"Base, second value: \"))\n",
    "s=(fsum([a,b])/2)*h\n",
    "print(s)\n",
    "\n"
   ]
  },
  {
   "cell_type": "code",
   "execution_count": null,
   "metadata": {},
   "outputs": [],
   "source": [
    "#3 task\n",
    "import math\n",
    "n=int(input(\"Input number of sides: \"))\n",
    "s=int(input(\"Input the length of a side: \"))\n",
    "p=n*s\n",
    "a=s/(2*math.tanh(180/n))\n",
    "area=(a*p)/2\n",
    "print(f\"The area of the polygon is: {math.trunc(area)}\")"
   ]
  },
  {
   "cell_type": "code",
   "execution_count": null,
   "metadata": {},
   "outputs": [],
   "source": [
    "#4 task\n",
    "import math\n",
    "n=int(input(\"Length of base: \"))\n",
    "s=int(input(\"Height of parallelogram: \"))\n",
    "a=n*s\n",
    "print(f\"Expected Output:{float(a)}\")\n"
   ]
  }
 ],
 "metadata": {
  "kernelspec": {
   "display_name": "Python 3",
   "language": "python",
   "name": "python3"
  },
  "language_info": {
   "codemirror_mode": {
    "name": "ipython",
    "version": 3
   },
   "file_extension": ".py",
   "mimetype": "text/x-python",
   "name": "python",
   "nbconvert_exporter": "python",
   "pygments_lexer": "ipython3",
   "version": "3.13.0"
  }
 },
 "nbformat": 4,
 "nbformat_minor": 2
}
